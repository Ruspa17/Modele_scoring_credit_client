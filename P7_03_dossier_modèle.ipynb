{
 "cells": [
  {
   "cell_type": "markdown",
   "id": "9b60b4e6",
   "metadata": {},
   "source": [
    "# Import Data"
   ]
  },
  {
   "cell_type": "code",
   "execution_count": 1,
   "id": "eb34bbdf",
   "metadata": {
    "ExecuteTime": {
     "end_time": "2021-09-10T09:28:26.953100Z",
     "start_time": "2021-09-10T09:28:04.661451Z"
    }
   },
   "outputs": [],
   "source": [
    "# Data manipulation\n",
    "import pandas as pd\n",
    "import numpy as np\n",
    "\n",
    "# Modeling\n",
    "import lightgbm as lgb\n",
    "\n",
    "# Evaluation of the model\n",
    "from sklearn.model_selection import KFold, train_test_split\n",
    "from sklearn.metrics import roc_auc_score\n",
    "\n",
    "# Visualization\n",
    "import matplotlib.pyplot as plt\n",
    "import seaborn as sns\n",
    "\n",
    "plt.rcParams['font.size'] = 18\n",
    "%matplotlib inline\n",
    "\n",
    "# Governing choices for search\n",
    "N_FOLDS = 5\n",
    "MAX_EVALS = 5"
   ]
  },
  {
   "cell_type": "code",
   "execution_count": 2,
   "id": "a8bbc935",
   "metadata": {
    "ExecuteTime": {
     "end_time": "2021-09-10T09:28:43.135271Z",
     "start_time": "2021-09-10T09:28:26.955741Z"
    }
   },
   "outputs": [
    {
     "name": "stdout",
     "output_type": "stream",
     "text": [
      "Train shape:  (307511, 280)\n",
      "Test shape:  (48744, 279)\n"
     ]
    }
   ],
   "source": [
    "train = pd.read_csv('../Dataset/train_small.csv')\n",
    "test = pd.read_csv('../Dataset/test_small.csv')\n",
    "\n",
    "print('Train shape: ', train.shape)\n",
    "print('Test shape: ', test.shape)"
   ]
  },
  {
   "cell_type": "markdown",
   "id": "65792025",
   "metadata": {},
   "source": [
    "# Model: LGBM Classfier"
   ]
  },
  {
   "cell_type": "code",
   "execution_count": 3,
   "id": "80070be6",
   "metadata": {
    "ExecuteTime": {
     "end_time": "2021-09-10T09:28:44.925065Z",
     "start_time": "2021-09-10T09:28:43.142957Z"
    }
   },
   "outputs": [
    {
     "name": "stdout",
     "output_type": "stream",
     "text": [
      "Train shape:  (230633, 278)\n",
      "Test shape:  (76878, 278)\n"
     ]
    },
    {
     "data": {
      "text/html": [
       "<div>\n",
       "<style scoped>\n",
       "    .dataframe tbody tr th:only-of-type {\n",
       "        vertical-align: middle;\n",
       "    }\n",
       "\n",
       "    .dataframe tbody tr th {\n",
       "        vertical-align: top;\n",
       "    }\n",
       "\n",
       "    .dataframe thead th {\n",
       "        text-align: right;\n",
       "    }\n",
       "</style>\n",
       "<table border=\"1\" class=\"dataframe\">\n",
       "  <thead>\n",
       "    <tr style=\"text-align: right;\">\n",
       "      <th></th>\n",
       "      <th>CREDIT_TERM</th>\n",
       "      <th>EXT_SOURCE_1</th>\n",
       "      <th>EXT_SOURCE_2</th>\n",
       "      <th>EXT_SOURCE_3</th>\n",
       "      <th>DAYS_EMPLOYED</th>\n",
       "      <th>DAYS_BIRTH</th>\n",
       "      <th>client_installments_payments_AMT_PAYMENT_min_sum</th>\n",
       "      <th>AMT_ANNUITY</th>\n",
       "      <th>client_pos_cash_CNT_INSTALMENT_FUTURE_mean_max</th>\n",
       "      <th>bureau_DAYS_CREDIT_max</th>\n",
       "      <th>...</th>\n",
       "      <th>client_installments_payments_NUM_INSTALMENT_VERSION_sum_sum</th>\n",
       "      <th>previous_NAME_GOODS_CATEGORY_ConsumerElectronics_mean</th>\n",
       "      <th>client_credit_card_AMT_CREDIT_LIMIT_ACTUAL_min_sum</th>\n",
       "      <th>client_credit_card_SK_DPD_mean_min</th>\n",
       "      <th>bureau_CREDIT_ACTIVE_Sold_count_norm</th>\n",
       "      <th>client_bureau_balance_MONTHS_BALANCE_count_max</th>\n",
       "      <th>previous_NAME_CLIENT_TYPE_New_mean</th>\n",
       "      <th>previous_CODE_REJECT_REASON_LIMIT_mean</th>\n",
       "      <th>client_credit_card_AMT_DRAWINGS_ATM_CURRENT_sum_sum</th>\n",
       "      <th>previous_WEEKDAY_APPR_PROCESS_START_TUESDAY_mean</th>\n",
       "    </tr>\n",
       "  </thead>\n",
       "  <tbody>\n",
       "    <tr>\n",
       "      <th>89672</th>\n",
       "      <td>0.102457</td>\n",
       "      <td>0.719170</td>\n",
       "      <td>0.541840</td>\n",
       "      <td>0.472253</td>\n",
       "      <td>-8093.0</td>\n",
       "      <td>16834</td>\n",
       "      <td>65330.550</td>\n",
       "      <td>16137.0</td>\n",
       "      <td>6.818182</td>\n",
       "      <td>-126.0</td>\n",
       "      <td>...</td>\n",
       "      <td>110.0</td>\n",
       "      <td>0.0</td>\n",
       "      <td>NaN</td>\n",
       "      <td>NaN</td>\n",
       "      <td>0.0</td>\n",
       "      <td>36.0</td>\n",
       "      <td>1.0</td>\n",
       "      <td>0.0</td>\n",
       "      <td>NaN</td>\n",
       "      <td>0.0</td>\n",
       "    </tr>\n",
       "    <tr>\n",
       "      <th>238736</th>\n",
       "      <td>0.061293</td>\n",
       "      <td>NaN</td>\n",
       "      <td>0.615644</td>\n",
       "      <td>0.185202</td>\n",
       "      <td>-5438.0</td>\n",
       "      <td>15884</td>\n",
       "      <td>31119.480</td>\n",
       "      <td>9252.0</td>\n",
       "      <td>36.000000</td>\n",
       "      <td>-82.0</td>\n",
       "      <td>...</td>\n",
       "      <td>91.0</td>\n",
       "      <td>0.0</td>\n",
       "      <td>NaN</td>\n",
       "      <td>NaN</td>\n",
       "      <td>0.0</td>\n",
       "      <td>9.0</td>\n",
       "      <td>0.5</td>\n",
       "      <td>0.0</td>\n",
       "      <td>NaN</td>\n",
       "      <td>0.0</td>\n",
       "    </tr>\n",
       "    <tr>\n",
       "      <th>278307</th>\n",
       "      <td>0.051056</td>\n",
       "      <td>0.391970</td>\n",
       "      <td>0.323001</td>\n",
       "      <td>0.461482</td>\n",
       "      <td>-1551.0</td>\n",
       "      <td>10730</td>\n",
       "      <td>40367.703</td>\n",
       "      <td>41355.0</td>\n",
       "      <td>3.000000</td>\n",
       "      <td>-376.0</td>\n",
       "      <td>...</td>\n",
       "      <td>36.0</td>\n",
       "      <td>0.0</td>\n",
       "      <td>NaN</td>\n",
       "      <td>NaN</td>\n",
       "      <td>0.0</td>\n",
       "      <td>80.0</td>\n",
       "      <td>1.0</td>\n",
       "      <td>0.0</td>\n",
       "      <td>NaN</td>\n",
       "      <td>0.0</td>\n",
       "    </tr>\n",
       "    <tr>\n",
       "      <th>181026</th>\n",
       "      <td>0.050000</td>\n",
       "      <td>NaN</td>\n",
       "      <td>0.705380</td>\n",
       "      <td>0.636376</td>\n",
       "      <td>-358.0</td>\n",
       "      <td>15654</td>\n",
       "      <td>162577.530</td>\n",
       "      <td>19125.0</td>\n",
       "      <td>8.000000</td>\n",
       "      <td>-131.0</td>\n",
       "      <td>...</td>\n",
       "      <td>169.0</td>\n",
       "      <td>0.0</td>\n",
       "      <td>NaN</td>\n",
       "      <td>NaN</td>\n",
       "      <td>0.0</td>\n",
       "      <td>NaN</td>\n",
       "      <td>0.5</td>\n",
       "      <td>0.0</td>\n",
       "      <td>NaN</td>\n",
       "      <td>0.0</td>\n",
       "    </tr>\n",
       "    <tr>\n",
       "      <th>66008</th>\n",
       "      <td>0.048328</td>\n",
       "      <td>0.656476</td>\n",
       "      <td>0.477630</td>\n",
       "      <td>NaN</td>\n",
       "      <td>-1456.0</td>\n",
       "      <td>19008</td>\n",
       "      <td>68668.160</td>\n",
       "      <td>28530.0</td>\n",
       "      <td>20.000000</td>\n",
       "      <td>NaN</td>\n",
       "      <td>...</td>\n",
       "      <td>81.0</td>\n",
       "      <td>0.5</td>\n",
       "      <td>405000.0</td>\n",
       "      <td>0.0</td>\n",
       "      <td>NaN</td>\n",
       "      <td>NaN</td>\n",
       "      <td>1.0</td>\n",
       "      <td>0.0</td>\n",
       "      <td>668250.0</td>\n",
       "      <td>0.0</td>\n",
       "    </tr>\n",
       "  </tbody>\n",
       "</table>\n",
       "<p>5 rows × 278 columns</p>\n",
       "</div>"
      ],
      "text/plain": [
       "        CREDIT_TERM  EXT_SOURCE_1  EXT_SOURCE_2  EXT_SOURCE_3  DAYS_EMPLOYED  \\\n",
       "89672      0.102457      0.719170      0.541840      0.472253        -8093.0   \n",
       "238736     0.061293           NaN      0.615644      0.185202        -5438.0   \n",
       "278307     0.051056      0.391970      0.323001      0.461482        -1551.0   \n",
       "181026     0.050000           NaN      0.705380      0.636376         -358.0   \n",
       "66008      0.048328      0.656476      0.477630           NaN        -1456.0   \n",
       "\n",
       "        DAYS_BIRTH  client_installments_payments_AMT_PAYMENT_min_sum  \\\n",
       "89672        16834                                         65330.550   \n",
       "238736       15884                                         31119.480   \n",
       "278307       10730                                         40367.703   \n",
       "181026       15654                                        162577.530   \n",
       "66008        19008                                         68668.160   \n",
       "\n",
       "        AMT_ANNUITY  client_pos_cash_CNT_INSTALMENT_FUTURE_mean_max  \\\n",
       "89672       16137.0                                        6.818182   \n",
       "238736       9252.0                                       36.000000   \n",
       "278307      41355.0                                        3.000000   \n",
       "181026      19125.0                                        8.000000   \n",
       "66008       28530.0                                       20.000000   \n",
       "\n",
       "        bureau_DAYS_CREDIT_max  ...  \\\n",
       "89672                   -126.0  ...   \n",
       "238736                   -82.0  ...   \n",
       "278307                  -376.0  ...   \n",
       "181026                  -131.0  ...   \n",
       "66008                      NaN  ...   \n",
       "\n",
       "        client_installments_payments_NUM_INSTALMENT_VERSION_sum_sum  \\\n",
       "89672                                               110.0             \n",
       "238736                                               91.0             \n",
       "278307                                               36.0             \n",
       "181026                                              169.0             \n",
       "66008                                                81.0             \n",
       "\n",
       "        previous_NAME_GOODS_CATEGORY_ConsumerElectronics_mean  \\\n",
       "89672                                                 0.0       \n",
       "238736                                                0.0       \n",
       "278307                                                0.0       \n",
       "181026                                                0.0       \n",
       "66008                                                 0.5       \n",
       "\n",
       "        client_credit_card_AMT_CREDIT_LIMIT_ACTUAL_min_sum  \\\n",
       "89672                                                 NaN    \n",
       "238736                                                NaN    \n",
       "278307                                                NaN    \n",
       "181026                                                NaN    \n",
       "66008                                            405000.0    \n",
       "\n",
       "        client_credit_card_SK_DPD_mean_min  \\\n",
       "89672                                  NaN   \n",
       "238736                                 NaN   \n",
       "278307                                 NaN   \n",
       "181026                                 NaN   \n",
       "66008                                  0.0   \n",
       "\n",
       "        bureau_CREDIT_ACTIVE_Sold_count_norm  \\\n",
       "89672                                    0.0   \n",
       "238736                                   0.0   \n",
       "278307                                   0.0   \n",
       "181026                                   0.0   \n",
       "66008                                    NaN   \n",
       "\n",
       "        client_bureau_balance_MONTHS_BALANCE_count_max  \\\n",
       "89672                                             36.0   \n",
       "238736                                             9.0   \n",
       "278307                                            80.0   \n",
       "181026                                             NaN   \n",
       "66008                                              NaN   \n",
       "\n",
       "        previous_NAME_CLIENT_TYPE_New_mean  \\\n",
       "89672                                  1.0   \n",
       "238736                                 0.5   \n",
       "278307                                 1.0   \n",
       "181026                                 0.5   \n",
       "66008                                  1.0   \n",
       "\n",
       "        previous_CODE_REJECT_REASON_LIMIT_mean  \\\n",
       "89672                                      0.0   \n",
       "238736                                     0.0   \n",
       "278307                                     0.0   \n",
       "181026                                     0.0   \n",
       "66008                                      0.0   \n",
       "\n",
       "        client_credit_card_AMT_DRAWINGS_ATM_CURRENT_sum_sum  \\\n",
       "89672                                                 NaN     \n",
       "238736                                                NaN     \n",
       "278307                                                NaN     \n",
       "181026                                                NaN     \n",
       "66008                                            668250.0     \n",
       "\n",
       "        previous_WEEKDAY_APPR_PROCESS_START_TUESDAY_mean  \n",
       "89672                                                0.0  \n",
       "238736                                               0.0  \n",
       "278307                                               0.0  \n",
       "181026                                               0.0  \n",
       "66008                                                0.0  \n",
       "\n",
       "[5 rows x 278 columns]"
      ]
     },
     "execution_count": 3,
     "metadata": {},
     "output_type": "execute_result"
    }
   ],
   "source": [
    "# Extract the labels\n",
    "labels = train['TARGET']\n",
    "features = train.drop(columns=['TARGET', 'SK_ID_CURR'])\n",
    "\n",
    "# Split into training and testing data\n",
    "train_features, test_features, train_labels, test_labels = train_test_split(\n",
    "    features, labels, test_size=0.25, random_state=17)\n",
    "\n",
    "print('Train shape: ', train_features.shape)\n",
    "print('Test shape: ', test_features.shape)\n",
    "\n",
    "train_features.head()"
   ]
  },
  {
   "cell_type": "markdown",
   "id": "c50f40e9",
   "metadata": {},
   "source": [
    "## Imbalanced Dataset"
   ]
  },
  {
   "cell_type": "code",
   "execution_count": 4,
   "id": "3814ddd3",
   "metadata": {
    "ExecuteTime": {
     "end_time": "2021-09-10T09:28:44.936561Z",
     "start_time": "2021-09-10T09:28:44.928950Z"
    }
   },
   "outputs": [],
   "source": [
    "def custom_loss_function(y_true, y_pred):\n",
    "    cost = 0\n",
    "    ratio = 15\n",
    "    cost = (((y_true == 0) & (y_pred == 1))*1).sum() + \\\n",
    "        (((y_true == 1) & (y_pred == 0))*ratio).sum()\n",
    "    return cost"
   ]
  },
  {
   "cell_type": "code",
   "execution_count": 5,
   "id": "abf40ba0",
   "metadata": {
    "ExecuteTime": {
     "end_time": "2021-09-10T09:28:44.947341Z",
     "start_time": "2021-09-10T09:28:44.939867Z"
    }
   },
   "outputs": [],
   "source": [
    "def custom_function_amt_credit(y_true, y_pred, x_features):\n",
    "    credit = x_features['AMT_CREDIT']\n",
    "    cost = 0\n",
    "    ratio = 15\n",
    "    cost = (((y_true == 0) & (y_pred == 1))*1*credit).sum() + \\\n",
    "        (((y_true == 1) & (y_pred == 0))*ratio*credit).sum()\n",
    "    return cost/x_features['AMT_CREDIT'].sum()"
   ]
  },
  {
   "cell_type": "code",
   "execution_count": 6,
   "id": "47ac18a3",
   "metadata": {
    "ExecuteTime": {
     "end_time": "2021-09-10T09:28:44.956730Z",
     "start_time": "2021-09-10T09:28:44.950577Z"
    }
   },
   "outputs": [],
   "source": [
    "from sklearn.metrics import make_scorer\n",
    "\n",
    "scorer = make_scorer(custom_loss_function, greater_is_better=False)"
   ]
  },
  {
   "cell_type": "code",
   "execution_count": 7,
   "id": "ea67352f",
   "metadata": {
    "ExecuteTime": {
     "end_time": "2021-09-10T09:28:44.965681Z",
     "start_time": "2021-09-10T09:28:44.959851Z"
    }
   },
   "outputs": [],
   "source": [
    "model = lgb.LGBMClassifier(random_state=17, verbose=-1, force_col_wise=True)\n",
    "\n",
    "# lgb.Dataset\n",
    "train_set = lgb.Dataset(train_features, label=train_labels)\n",
    "test_set = lgb.Dataset(test_features, label=test_labels)"
   ]
  },
  {
   "cell_type": "code",
   "execution_count": 8,
   "id": "36cdd9e9",
   "metadata": {
    "ExecuteTime": {
     "end_time": "2021-09-10T09:40:02.168637Z",
     "start_time": "2021-09-10T09:28:44.969181Z"
    }
   },
   "outputs": [
    {
     "name": "stdout",
     "output_type": "stream",
     "text": [
      "Fitting 5 folds for each of 5 candidates, totalling 25 fits\n",
      "Best score reached: -53277.6 with params:\n",
      " {'colsample_bytree': 0.7422504150750135, 'min_child_samples': 266, 'min_child_weight': 0.001, 'num_leaves': 43, 'reg_alpha': 0.1, 'reg_lambda': 0, 'subsample': 0.5022832470118295} \n"
     ]
    }
   ],
   "source": [
    "from scipy.stats import randint as sp_randint\n",
    "from scipy.stats import uniform as sp_uniform\n",
    "from sklearn.model_selection import RandomizedSearchCV\n",
    "\n",
    "gridParams = {'num_leaves': sp_randint(6, 50),\n",
    "              'min_child_samples': sp_randint(100, 500),\n",
    "              'min_child_weight': [1e-5, 1e-3, 1e-2, 1e-1, 1, 1e1, 1e2, 1e3, 1e4],\n",
    "              'subsample': sp_uniform(loc=0.2, scale=0.8),\n",
    "              'colsample_bytree': sp_uniform(loc=0.4, scale=0.6),\n",
    "              'reg_alpha': [0, 1e-1, 1, 2, 5, 7, 10, 50, 100],\n",
    "              'reg_lambda': [0, 1e-1, 1, 5, 10, 20, 50, 100]}\n",
    "\n",
    "grid = RandomizedSearchCV(\n",
    "    model, param_distributions=gridParams, verbose=1, cv=N_FOLDS, n_jobs=-1, n_iter=5, scoring=scorer, random_state=17)\n",
    "\n",
    "grid.fit(train_features, train_labels)\n",
    "print('Best score reached: {} with params:\\n {} '.format(\n",
    "    grid.best_score_, grid.best_params_))"
   ]
  },
  {
   "cell_type": "code",
   "execution_count": 9,
   "id": "c8f6c480",
   "metadata": {
    "ExecuteTime": {
     "end_time": "2021-09-10T09:40:02.224247Z",
     "start_time": "2021-09-10T09:40:02.183337Z"
    }
   },
   "outputs": [],
   "source": [
    "hyperparameters = {key: grid.best_params_.get(\n",
    "    key, model.get_params()[key]) for key in model.get_params()}"
   ]
  },
  {
   "cell_type": "code",
   "execution_count": 10,
   "id": "8b499e64",
   "metadata": {
    "ExecuteTime": {
     "end_time": "2021-09-10T09:43:48.315810Z",
     "start_time": "2021-09-10T09:40:02.228645Z"
    }
   },
   "outputs": [
    {
     "name": "stderr",
     "output_type": "stream",
     "text": [
      "/Users/ruspa/opt/anaconda3/lib/python3.8/site-packages/lightgbm/basic.py:1075: UserWarning: silent keyword has been found in `params` and will be ignored.\n",
      "Please use silent argument of the Dataset constructor to pass this parameter.\n",
      "  warnings.warn('{0} keyword has been found in `params` and will be ignored.\\n'\n"
     ]
    },
    {
     "name": "stdout",
     "output_type": "stream",
     "text": [
      "The maximium ROC AUC in cross validation was 0.77969 with std of 0.00272.\n",
      "The ideal number of iterations was 168.\n"
     ]
    }
   ],
   "source": [
    "# Using early stopping to determine number of estimators.\n",
    "del hyperparameters['n_estimators']\n",
    "\n",
    "# Perform cross validation with early stopping\n",
    "cv_results = lgb.cv(hyperparameters, train_set, num_boost_round=10000, nfold=N_FOLDS, metrics='auc',\n",
    "                    early_stopping_rounds=100, verbose_eval=False, seed=17)\n",
    "\n",
    "# Highest score\n",
    "best = cv_results['auc-mean'][-1]\n",
    "\n",
    "# Standard deviation of best score\n",
    "best_std = cv_results['auc-stdv'][-1]\n",
    "\n",
    "print('The maximium ROC AUC in cross validation was {:.5f} with std of {:.5f}.'.format(\n",
    "    best, best_std))\n",
    "print('The ideal number of iterations was {}.'.format(\n",
    "    len(cv_results['auc-mean'])))"
   ]
  },
  {
   "cell_type": "code",
   "execution_count": 11,
   "id": "5c1e4bfc",
   "metadata": {
    "ExecuteTime": {
     "end_time": "2021-09-10T09:51:31.580431Z",
     "start_time": "2021-09-10T09:43:48.319437Z"
    }
   },
   "outputs": [
    {
     "name": "stdout",
     "output_type": "stream",
     "text": [
      "The imbalanced model scores 0.78079 ROC AUC on the test set.\n"
     ]
    }
   ],
   "source": [
    "# Optimal number of esimators found in cv\n",
    "model.n_estimators = len(cv_results['auc-mean'])\n",
    "model.set_params(**hyperparameters)\n",
    "\n",
    "# Train and make predicions with model\n",
    "model.fit(train_features, train_labels)\n",
    "\n",
    "preds_proba = model.predict_proba(test_features)[:, 1]\n",
    "preds = model.predict(test_features)\n",
    "\n",
    "imbalanced_auc = roc_auc_score(test_labels, preds_proba)\n",
    "\n",
    "print('The imbalanced model scores {:.5f} ROC AUC on the test set.'.format(\n",
    "    imbalanced_auc))"
   ]
  },
  {
   "cell_type": "markdown",
   "id": "2e37285f",
   "metadata": {},
   "source": [
    "### Visualisation"
   ]
  },
  {
   "cell_type": "code",
   "execution_count": 12,
   "id": "0c296ba6",
   "metadata": {
    "ExecuteTime": {
     "end_time": "2021-09-10T09:51:31.594020Z",
     "start_time": "2021-09-10T09:51:31.584679Z"
    }
   },
   "outputs": [],
   "source": [
    "def plot_2d_space(X, y, label='Classes'):\n",
    "\n",
    "    plt.figure(figsize=(8, 6))\n",
    "    colors = ['#1F77B4', '#FF7F0E']\n",
    "    markers = ['o', 's']\n",
    "    for l, c, m in zip(np.unique(y), colors, markers):\n",
    "        plt.scatter(\n",
    "            X[y == l, 0],\n",
    "            X[y == l, 1],\n",
    "            c=c, label=l, marker=m\n",
    "        )\n",
    "\n",
    "    plt.title(label)\n",
    "    plt.legend()\n",
    "    plt.show()"
   ]
  },
  {
   "cell_type": "code",
   "execution_count": 13,
   "id": "420086b7",
   "metadata": {
    "ExecuteTime": {
     "end_time": "2021-09-10T09:51:48.997182Z",
     "start_time": "2021-09-10T09:51:31.597631Z"
    }
   },
   "outputs": [
    {
     "name": "stdout",
     "output_type": "stream",
     "text": [
      "Features shape:  (230633, 278)\n",
      "Labels shape:  (230633,)\n",
      "0    212064\n",
      "1     18569\n",
      "Name: TARGET, dtype: int64\n"
     ]
    }
   ],
   "source": [
    "from sklearn.impute import SimpleImputer\n",
    "from sklearn.decomposition import PCA\n",
    "\n",
    "imputer = SimpleImputer(strategy='median')\n",
    "\n",
    "X_imputed = imputer.fit_transform(train_features)\n",
    "\n",
    "pca = PCA(n_components=2)\n",
    "\n",
    "X_pca = pca.fit_transform(X_imputed)\n",
    "\n",
    "print('Features shape: ', train_features.shape)\n",
    "print('Labels shape: ', train_labels.shape)\n",
    "print(train_labels.value_counts())"
   ]
  },
  {
   "cell_type": "code",
   "execution_count": 14,
   "id": "e51a6c3d",
   "metadata": {
    "ExecuteTime": {
     "end_time": "2021-09-10T09:51:51.409206Z",
     "start_time": "2021-09-10T09:51:49.005063Z"
    }
   },
   "outputs": [
    {
     "data": {
      "image/png": "[encoded data removed]",
      "text/plain": [
       "<Figure size 576x432 with 1 Axes>"
      ]
     },
     "metadata": {
      "needs_background": "light"
     },
     "output_type": "display_data"
    }
   ],
   "source": [
    "plot_2d_space(X_pca, train_labels, 'Imbalanced dataset (2 PCA components)')"
   ]
  },
  {
   "cell_type": "markdown",
   "id": "6ec7b848",
   "metadata": {},
   "source": [
    "### Metrics"
   ]
  },
  {
   "cell_type": "code",
   "execution_count": 15,
   "id": "395bc18a",
   "metadata": {
    "ExecuteTime": {
     "end_time": "2021-09-10T09:51:51.664476Z",
     "start_time": "2021-09-10T09:51:51.417901Z"
    }
   },
   "outputs": [
    {
     "name": "stdout",
     "output_type": "stream",
     "text": [
      "              precision    recall  f1-score   support\n",
      "\n",
      "           0       0.92      1.00      0.96     70622\n",
      "           1       0.55      0.06      0.10      6256\n",
      "\n",
      "    accuracy                           0.92     76878\n",
      "   macro avg       0.74      0.53      0.53     76878\n",
      "weighted avg       0.89      0.92      0.89     76878\n",
      "\n"
     ]
    }
   ],
   "source": [
    "from sklearn.metrics import classification_report, accuracy_score\n",
    "\n",
    "cl_report_imbalanced = classification_report(\n",
    "    test_labels, preds, output_dict=True)\n",
    "\n",
    "cus_metric_imbalanced = custom_loss_function(test_labels, preds)\n",
    "cus_metric_amt_ann_imbalanced = custom_function_amt_credit(\n",
    "    test_labels, preds, test_features)\n",
    "\n",
    "print(classification_report(test_labels, preds))"
   ]
  },
  {
   "cell_type": "markdown",
   "id": "4df3e350",
   "metadata": {},
   "source": [
    "## Random undersampling"
   ]
  },
  {
   "cell_type": "code",
   "execution_count": 16,
   "id": "98221713",
   "metadata": {
    "ExecuteTime": {
     "end_time": "2021-09-10T09:51:53.103877Z",
     "start_time": "2021-09-10T09:51:51.666960Z"
    }
   },
   "outputs": [
    {
     "name": "stdout",
     "output_type": "stream",
     "text": [
      "Features shape:  (37138, 278)\n",
      "Labels shape:  (37138,)\n",
      "0    18569\n",
      "1    18569\n",
      "Name: TARGET, dtype: int64\n"
     ]
    }
   ],
   "source": [
    "from imblearn.under_sampling import RandomUnderSampler\n",
    "\n",
    "rus = RandomUnderSampler()\n",
    "X_rus, y_rus = rus.fit_resample(train_features, train_labels)\n",
    "\n",
    "print('Features shape: ', X_rus.shape)\n",
    "print('Labels shape: ', y_rus.shape)\n",
    "print(y_rus.value_counts())"
   ]
  },
  {
   "cell_type": "markdown",
   "id": "38d0bcaa",
   "metadata": {},
   "source": [
    "### Visualisation"
   ]
  },
  {
   "cell_type": "code",
   "execution_count": 17,
   "id": "34363cdb",
   "metadata": {
    "ExecuteTime": {
     "end_time": "2021-09-10T09:51:55.360383Z",
     "start_time": "2021-09-10T09:51:53.107362Z"
    }
   },
   "outputs": [],
   "source": [
    "X_rus_imputed = imputer.fit_transform(X_rus)\n",
    "\n",
    "X_rus_pca = pca.fit_transform(X_rus_imputed)"
   ]
  },
  {
   "cell_type": "code",
   "execution_count": 18,
   "id": "a7bef92f",
   "metadata": {
    "ExecuteTime": {
     "end_time": "2021-09-10T09:51:55.914640Z",
     "start_time": "2021-09-10T09:51:55.362715Z"
    }
   },
   "outputs": [
    {
     "data": {
      "image/png": "[encoded data removed]",
      "text/plain": [
       "<Figure size 576x432 with 1 Axes>"
      ]
     },
     "metadata": {
      "needs_background": "light"
     },
     "output_type": "display_data"
    }
   ],
   "source": [
    "plot_2d_space(X_rus_pca, y_rus, 'Random under-sampling')"
   ]
  },
  {
   "cell_type": "markdown",
   "id": "ce065a70",
   "metadata": {},
   "source": [
    "### Metrics"
   ]
  },
  {
   "cell_type": "code",
   "execution_count": 19,
   "id": "aa69bce0",
   "metadata": {
    "ExecuteTime": {
     "end_time": "2021-09-10T09:52:07.014553Z",
     "start_time": "2021-09-10T09:51:55.919075Z"
    }
   },
   "outputs": [
    {
     "name": "stdout",
     "output_type": "stream",
     "text": [
      "The random undersampling model scores 0.77735 ROC AUC on the test set.\n"
     ]
    }
   ],
   "source": [
    "# Train and make predicions with model\n",
    "model.fit(X_rus, y_rus)\n",
    "\n",
    "preds_proba = model.predict_proba(test_features)[:, 1]\n",
    "preds = model.predict(test_features)\n",
    "\n",
    "rus_auc = roc_auc_score(test_labels, preds_proba)\n",
    "\n",
    "print('The random undersampling model scores {:.5f} ROC AUC on the test set.'.format(\n",
    "    rus_auc))"
   ]
  },
  {
   "cell_type": "code",
   "execution_count": 20,
   "id": "9a057bc4",
   "metadata": {
    "ExecuteTime": {
     "end_time": "2021-09-10T09:52:07.293344Z",
     "start_time": "2021-09-10T09:52:07.017082Z"
    }
   },
   "outputs": [
    {
     "name": "stdout",
     "output_type": "stream",
     "text": [
      "              precision    recall  f1-score   support\n",
      "\n",
      "           0       0.96      0.71      0.82     70622\n",
      "           1       0.18      0.70      0.28      6256\n",
      "\n",
      "    accuracy                           0.71     76878\n",
      "   macro avg       0.57      0.70      0.55     76878\n",
      "weighted avg       0.90      0.71      0.77     76878\n",
      "\n"
     ]
    }
   ],
   "source": [
    "cl_report_rus = classification_report(\n",
    "    test_labels, preds, output_dict=True)\n",
    "\n",
    "cus_metric_rus = custom_loss_function(test_labels, preds)\n",
    "cus_metric_amt_ann_rus = custom_function_amt_credit(\n",
    "    test_labels, preds, test_features)\n",
    "\n",
    "print(classification_report(test_labels, preds))"
   ]
  },
  {
   "cell_type": "markdown",
   "id": "8e2ccc63",
   "metadata": {},
   "source": [
    "## Over sampling"
   ]
  },
  {
   "cell_type": "code",
   "execution_count": 21,
   "id": "c9581447",
   "metadata": {
    "ExecuteTime": {
     "end_time": "2021-09-10T09:52:16.655295Z",
     "start_time": "2021-09-10T09:52:07.295566Z"
    }
   },
   "outputs": [
    {
     "name": "stdout",
     "output_type": "stream",
     "text": [
      "193495 new random picked points\n",
      "Features shape:  (424128, 278)\n",
      "Labels shape:  (424128,)\n",
      "0    212064\n",
      "1    212064\n",
      "Name: TARGET, dtype: int64\n"
     ]
    }
   ],
   "source": [
    "from imblearn.over_sampling import RandomOverSampler\n",
    "\n",
    "ros = RandomOverSampler()\n",
    "X_ros, y_ros = ros.fit_resample(train_features, train_labels)\n",
    "\n",
    "print(X_ros.shape[0] - train_features.shape[0], 'new random picked points')\n",
    "print('Features shape: ', X_ros.shape)\n",
    "print('Labels shape: ', y_ros.shape)\n",
    "print(y_ros.value_counts())"
   ]
  },
  {
   "cell_type": "markdown",
   "id": "6ddae787",
   "metadata": {
    "ExecuteTime": {
     "end_time": "2021-08-27T16:52:45.501693Z",
     "start_time": "2021-08-27T16:52:45.498655Z"
    }
   },
   "source": [
    "### Visualisation"
   ]
  },
  {
   "cell_type": "code",
   "execution_count": 22,
   "id": "b657a50b",
   "metadata": {
    "ExecuteTime": {
     "end_time": "2021-09-10T09:52:59.333114Z",
     "start_time": "2021-09-10T09:52:16.659048Z"
    }
   },
   "outputs": [],
   "source": [
    "X_ros_imputed = imputer.fit_transform(X_ros)\n",
    "\n",
    "X_ros_pca = pca.fit_transform(X_ros_imputed)"
   ]
  },
  {
   "cell_type": "code",
   "execution_count": 23,
   "id": "1bab9fa0",
   "metadata": {
    "ExecuteTime": {
     "end_time": "2021-09-10T09:53:03.010730Z",
     "start_time": "2021-09-10T09:52:59.341552Z"
    }
   },
   "outputs": [
    {
     "data": {
      "image/png": "[encoded data removed]",
      "text/plain": [
       "<Figure size 576x432 with 1 Axes>"
      ]
     },
     "metadata": {
      "needs_background": "light"
     },
     "output_type": "display_data"
    }
   ],
   "source": [
    "plot_2d_space(X_ros_pca, y_ros, 'Random over-sampling')"
   ]
  },
  {
   "cell_type": "markdown",
   "id": "587793ac",
   "metadata": {},
   "source": [
    "### Metrics"
   ]
  },
  {
   "cell_type": "code",
   "execution_count": 24,
   "id": "069aa5ee",
   "metadata": {
    "ExecuteTime": {
     "end_time": "2021-09-10T09:54:01.872443Z",
     "start_time": "2021-09-10T09:53:03.013406Z"
    }
   },
   "outputs": [
    {
     "name": "stdout",
     "output_type": "stream",
     "text": [
      "The random oversampling model scores 0.78027 ROC AUC on the test set.\n"
     ]
    }
   ],
   "source": [
    "# Train and make predicions with model\n",
    "model.fit(X_ros, y_ros)\n",
    "\n",
    "preds_proba = model.predict_proba(test_features)[:, 1]\n",
    "preds = model.predict(test_features)\n",
    "\n",
    "ros_auc = roc_auc_score(test_labels, preds_proba)\n",
    "\n",
    "print('The random oversampling model scores {:.5f} ROC AUC on the test set.'.format(\n",
    "    ros_auc))"
   ]
  },
  {
   "cell_type": "code",
   "execution_count": 25,
   "id": "27bd50fa",
   "metadata": {
    "ExecuteTime": {
     "end_time": "2021-09-10T09:54:02.175142Z",
     "start_time": "2021-09-10T09:54:01.876230Z"
    }
   },
   "outputs": [
    {
     "name": "stdout",
     "output_type": "stream",
     "text": [
      "              precision    recall  f1-score   support\n",
      "\n",
      "           0       0.96      0.77      0.85     70622\n",
      "           1       0.20      0.64      0.30      6256\n",
      "\n",
      "    accuracy                           0.76     76878\n",
      "   macro avg       0.58      0.71      0.58     76878\n",
      "weighted avg       0.90      0.76      0.81     76878\n",
      "\n"
     ]
    }
   ],
   "source": [
    "cl_report_ros = classification_report(\n",
    "    test_labels, preds, output_dict=True)\n",
    "\n",
    "cus_metric_ros = custom_loss_function(test_labels, preds)\n",
    "cus_metric_amt_ann_ros = custom_function_amt_credit(\n",
    "    test_labels, preds, test_features)\n",
    "\n",
    "print(classification_report(test_labels, preds))"
   ]
  },
  {
   "cell_type": "markdown",
   "id": "e829e53e",
   "metadata": {
    "ExecuteTime": {
     "end_time": "2021-08-27T14:02:44.571999Z",
     "start_time": "2021-08-27T14:02:44.537928Z"
    }
   },
   "source": [
    "## Tomek links"
   ]
  },
  {
   "cell_type": "code",
   "execution_count": 26,
   "id": "a1939f44",
   "metadata": {
    "ExecuteTime": {
     "end_time": "2021-09-10T09:54:22.064454Z",
     "start_time": "2021-09-10T09:54:02.179816Z"
    }
   },
   "outputs": [],
   "source": [
    "X_tl_imputed = imputer.fit_transform(train_features)"
   ]
  },
  {
   "cell_type": "code",
   "execution_count": 27,
   "id": "ac86daba",
   "metadata": {
    "ExecuteTime": {
     "end_time": "2021-09-10T10:46:35.124718Z",
     "start_time": "2021-09-10T09:54:22.088729Z"
    }
   },
   "outputs": [
    {
     "name": "stdout",
     "output_type": "stream",
     "text": [
      "Features shape:  (223902, 278)\n",
      "Labels shape:  (223902,)\n",
      "0    205333\n",
      "1     18569\n",
      "Name: TARGET, dtype: int64\n"
     ]
    }
   ],
   "source": [
    "from imblearn.under_sampling import TomekLinks\n",
    "\n",
    "tl = TomekLinks(sampling_strategy='majority')\n",
    "X_tl, y_tl = tl.fit_resample(X_tl_imputed, train_labels)\n",
    "\n",
    "print('Features shape: ', X_tl.shape)\n",
    "print('Labels shape: ', y_tl.shape)\n",
    "print(y_tl.value_counts())"
   ]
  },
  {
   "cell_type": "markdown",
   "id": "3b53896d",
   "metadata": {},
   "source": [
    "### Visualisation"
   ]
  },
  {
   "cell_type": "code",
   "execution_count": 28,
   "id": "2303c97d",
   "metadata": {
    "ExecuteTime": {
     "end_time": "2021-09-10T10:46:39.112000Z",
     "start_time": "2021-09-10T10:46:35.136688Z"
    }
   },
   "outputs": [],
   "source": [
    "X_tl_pca = pca.fit_transform(X_tl)"
   ]
  },
  {
   "cell_type": "code",
   "execution_count": 29,
   "id": "32277c04",
   "metadata": {
    "ExecuteTime": {
     "end_time": "2021-09-10T10:46:42.714184Z",
     "start_time": "2021-09-10T10:46:39.116817Z"
    }
   },
   "outputs": [
    {
     "data": {
      "image/png": "[encoded data removed]",
      "text/plain": [
       "<Figure size 576x432 with 1 Axes>"
      ]
     },
     "metadata": {
      "needs_background": "light"
     },
     "output_type": "display_data"
    }
   ],
   "source": [
    "plot_2d_space(X_tl_pca, y_tl, 'Tomek links under-sampling')"
   ]
  },
  {
   "cell_type": "markdown",
   "id": "046b7978",
   "metadata": {},
   "source": [
    "### Metrics"
   ]
  },
  {
   "cell_type": "code",
   "execution_count": 30,
   "id": "dc18855b",
   "metadata": {
    "ExecuteTime": {
     "end_time": "2021-09-10T10:49:37.650416Z",
     "start_time": "2021-09-10T10:46:42.716791Z"
    }
   },
   "outputs": [
    {
     "name": "stdout",
     "output_type": "stream",
     "text": [
      "The Tomek links model scores 0.72908 ROC AUC on the test set.\n"
     ]
    }
   ],
   "source": [
    "# Train and make predicions with model\n",
    "model.fit(X_tl, y_tl)\n",
    "\n",
    "preds_proba = model.predict_proba(test_features)[:, 1]\n",
    "preds = model.predict(test_features)\n",
    "\n",
    "tl_auc = roc_auc_score(test_labels, preds_proba)\n",
    "\n",
    "print('The Tomek links model scores {:.5f} ROC AUC on the test set.'.format(\n",
    "    tl_auc))"
   ]
  },
  {
   "cell_type": "code",
   "execution_count": 31,
   "id": "71641bb7",
   "metadata": {
    "ExecuteTime": {
     "end_time": "2021-09-10T10:49:37.951108Z",
     "start_time": "2021-09-10T10:49:37.654999Z"
    }
   },
   "outputs": [
    {
     "name": "stdout",
     "output_type": "stream",
     "text": [
      "              precision    recall  f1-score   support\n",
      "\n",
      "           0       0.93      0.97      0.95     70622\n",
      "           1       0.29      0.16      0.20      6256\n",
      "\n",
      "    accuracy                           0.90     76878\n",
      "   macro avg       0.61      0.56      0.57     76878\n",
      "weighted avg       0.88      0.90      0.89     76878\n",
      "\n"
     ]
    }
   ],
   "source": [
    "cl_report_tl = classification_report(\n",
    "    test_labels, preds, output_dict=True)\n",
    "\n",
    "cus_metric_tl = custom_loss_function(test_labels, preds)\n",
    "cus_metric_amt_ann_tl = custom_function_amt_credit(\n",
    "    test_labels, preds, test_features)\n",
    "\n",
    "print(classification_report(test_labels, preds))"
   ]
  },
  {
   "cell_type": "markdown",
   "id": "1ff83c13",
   "metadata": {},
   "source": [
    "## SMOTE"
   ]
  },
  {
   "cell_type": "code",
   "execution_count": 32,
   "id": "d4e1b76e",
   "metadata": {
    "ExecuteTime": {
     "end_time": "2021-09-10T10:49:57.101842Z",
     "start_time": "2021-09-10T10:49:37.953829Z"
    }
   },
   "outputs": [],
   "source": [
    "X_sm_imputed = imputer.fit_transform(train_features)"
   ]
  },
  {
   "cell_type": "code",
   "execution_count": 33,
   "id": "3d31c1b7",
   "metadata": {
    "ExecuteTime": {
     "end_time": "2021-09-10T10:50:12.834830Z",
     "start_time": "2021-09-10T10:49:57.106319Z"
    }
   },
   "outputs": [
    {
     "name": "stdout",
     "output_type": "stream",
     "text": [
      "Features shape:  (424128, 278)\n",
      "Labels shape:  (424128,)\n",
      "0    212064\n",
      "1    212064\n",
      "Name: TARGET, dtype: int64\n"
     ]
    }
   ],
   "source": [
    "from imblearn.over_sampling import SMOTE\n",
    "\n",
    "smote = SMOTE(sampling_strategy='minority')\n",
    "X_sm, y_sm = smote.fit_resample(X_sm_imputed, train_labels)\n",
    "\n",
    "print('Features shape: ', X_sm.shape)\n",
    "print('Labels shape: ', y_sm.shape)\n",
    "print(y_sm.value_counts())"
   ]
  },
  {
   "cell_type": "markdown",
   "id": "bd52be22",
   "metadata": {},
   "source": [
    "### Visualisation"
   ]
  },
  {
   "cell_type": "code",
   "execution_count": 34,
   "id": "fcbbbdf9",
   "metadata": {
    "ExecuteTime": {
     "end_time": "2021-09-10T10:50:19.359849Z",
     "start_time": "2021-09-10T10:50:12.838998Z"
    }
   },
   "outputs": [],
   "source": [
    "X_sm_pca = pca.fit_transform(X_sm)"
   ]
  },
  {
   "cell_type": "code",
   "execution_count": 35,
   "id": "f616ad13",
   "metadata": {
    "ExecuteTime": {
     "end_time": "2021-09-10T10:50:23.090427Z",
     "start_time": "2021-09-10T10:50:19.363906Z"
    }
   },
   "outputs": [
    {
     "data": {
      "image/png": "[encoded data removed]",
      "text/plain": [
       "<Figure size 576x432 with 1 Axes>"
      ]
     },
     "metadata": {
      "needs_background": "light"
     },
     "output_type": "display_data"
    }
   ],
   "source": [
    "plot_2d_space(X_sm_pca, y_sm, 'SMOTE over-sampling')"
   ]
  },
  {
   "cell_type": "markdown",
   "id": "6672527b",
   "metadata": {},
   "source": [
    "### Metrics"
   ]
  },
  {
   "cell_type": "code",
   "execution_count": 36,
   "id": "5c0f5fc3",
   "metadata": {
    "ExecuteTime": {
     "end_time": "2021-09-10T10:51:16.931074Z",
     "start_time": "2021-09-10T10:50:23.094093Z"
    }
   },
   "outputs": [
    {
     "name": "stdout",
     "output_type": "stream",
     "text": [
      "The SMOTE model scores 0.73021 ROC AUC on the test set.\n"
     ]
    }
   ],
   "source": [
    "# Train and make predicions with model\n",
    "model.fit(X_sm, y_sm)\n",
    "\n",
    "preds_proba = model.predict_proba(test_features)[:, 1]\n",
    "preds = model.predict(test_features)\n",
    "\n",
    "sm_auc = roc_auc_score(test_labels, preds_proba)\n",
    "\n",
    "print('The SMOTE model scores {:.5f} ROC AUC on the test set.'.format(\n",
    "    sm_auc))"
   ]
  },
  {
   "cell_type": "code",
   "execution_count": 37,
   "id": "392a3556",
   "metadata": {
    "ExecuteTime": {
     "end_time": "2021-09-10T10:51:17.184395Z",
     "start_time": "2021-09-10T10:51:16.935955Z"
    }
   },
   "outputs": [
    {
     "name": "stdout",
     "output_type": "stream",
     "text": [
      "              precision    recall  f1-score   support\n",
      "\n",
      "           0       0.92      0.99      0.96     70622\n",
      "           1       0.37      0.07      0.12      6256\n",
      "\n",
      "    accuracy                           0.91     76878\n",
      "   macro avg       0.65      0.53      0.54     76878\n",
      "weighted avg       0.88      0.91      0.89     76878\n",
      "\n"
     ]
    }
   ],
   "source": [
    "cl_report_sm = classification_report(\n",
    "    test_labels, preds, output_dict=True)\n",
    "\n",
    "cus_metric_sm = custom_loss_function(test_labels, preds)\n",
    "cus_metric_amt_ann_sm = custom_function_amt_credit(\n",
    "    test_labels, preds, test_features)\n",
    "\n",
    "print(classification_report(test_labels, preds))"
   ]
  },
  {
   "cell_type": "markdown",
   "id": "481fd483",
   "metadata": {},
   "source": [
    "# Metrics Table"
   ]
  },
  {
   "cell_type": "code",
   "execution_count": 38,
   "id": "0d7261ef",
   "metadata": {
    "ExecuteTime": {
     "end_time": "2021-09-10T10:51:17.201763Z",
     "start_time": "2021-09-10T10:51:17.187607Z"
    }
   },
   "outputs": [],
   "source": [
    "dict_p = {'Imbalanced': [cl_report_imbalanced['0']['recall'], cl_report_imbalanced['1']['recall'], cl_report_imbalanced['0']['precision'], cl_report_imbalanced['1']['precision'], cl_report_imbalanced['accuracy'], imbalanced_auc],\n",
    "          'Random Under Sampling': [cl_report_rus['0']['recall'], cl_report_rus['1']['recall'], cl_report_rus['0']['precision'], cl_report_rus['1']['precision'], cl_report_rus['accuracy'], rus_auc],\n",
    "          'Random Over Sampling': [cl_report_ros['0']['recall'], cl_report_ros['1']['recall'], cl_report_ros['0']['precision'], cl_report_ros['1']['precision'], cl_report_ros['accuracy'], ros_auc],\n",
    "          'Tomek Links': [cl_report_tl['0']['recall'], cl_report_tl['1']['recall'], cl_report_tl['0']['precision'], cl_report_tl['1']['precision'], cl_report_tl['accuracy'], tl_auc],\n",
    "          'SMOTE': [cl_report_sm['0']['recall'], cl_report_sm['1']['recall'], cl_report_sm['0']['precision'], cl_report_sm['1']['precision'], cl_report_sm['accuracy'], sm_auc]\n",
    "          }"
   ]
  },
  {
   "cell_type": "code",
   "execution_count": 39,
   "id": "c359d2af",
   "metadata": {
    "ExecuteTime": {
     "end_time": "2021-09-10T10:51:17.600279Z",
     "start_time": "2021-09-10T10:51:17.205865Z"
    }
   },
   "outputs": [
    {
     "data": {
      "image/png": "[encoded data removed]",
      "text/plain": [
       "<Figure size 1008x360 with 1 Axes>"
      ]
     },
     "metadata": {
      "needs_background": "light"
     },
     "output_type": "display_data"
    }
   ],
   "source": [
    "ax = pd.DataFrame(dict_p).plot(kind='bar', figsize=(14, 5))\n",
    "\n",
    "ax.set_xticks(range(6))\n",
    "ax.set_xticklabels(['Recall on 0', 'Recall on 1', 'Precision on 0',\n",
    "                    'Precision on 1', 'Accuracy', 'ROC AUC'], rotation=0)\n",
    "\n",
    "plt.show()"
   ]
  },
  {
   "cell_type": "code",
   "execution_count": 40,
   "id": "39b417e3",
   "metadata": {
    "ExecuteTime": {
     "end_time": "2021-09-10T10:51:17.612856Z",
     "start_time": "2021-09-10T10:51:17.606134Z"
    }
   },
   "outputs": [],
   "source": [
    "dict_p_custom = {'Imbalanced': [cus_metric_amt_ann_imbalanced, cus_metric_imbalanced/40000],\n",
    "                 'Random Under Sampling': [cus_metric_amt_ann_rus, cus_metric_rus/40000],\n",
    "                 'Random Over Sampling': [cus_metric_amt_ann_ros, cus_metric_ros/40000],\n",
    "                 'Tomek Links': [cus_metric_amt_ann_tl, cus_metric_tl/40000],\n",
    "                 'SMOTE': [cus_metric_amt_ann_sm, cus_metric_sm/40000],\n",
    "                 }"
   ]
  },
  {
   "cell_type": "code",
   "execution_count": 41,
   "id": "48e58e8d",
   "metadata": {
    "ExecuteTime": {
     "end_time": "2021-09-10T10:51:17.823678Z",
     "start_time": "2021-09-10T10:51:17.617317Z"
    }
   },
   "outputs": [
    {
     "data": {
      "image/png": "[encoded data removed]",
      "text/plain": [
       "<Figure size 1008x360 with 1 Axes>"
      ]
     },
     "metadata": {
      "needs_background": "light"
     },
     "output_type": "display_data"
    }
   ],
   "source": [
    "ax = pd.DataFrame(dict_p_custom).plot(kind='bar', figsize=(14, 5))\n",
    "\n",
    "ax.set_xticks(range(2))\n",
    "ax.set_xticklabels(['AMT_ANNUITY metric', 'Custom metric'], rotation=0)\n",
    "\n",
    "plt.show()"
   ]
  },
  {
   "cell_type": "markdown",
   "id": "3fbb81b7",
   "metadata": {},
   "source": [
    "# Final Model"
   ]
  },
  {
   "cell_type": "code",
   "execution_count": 42,
   "id": "b60510a1",
   "metadata": {
    "ExecuteTime": {
     "end_time": "2021-09-10T10:51:27.086023Z",
     "start_time": "2021-09-10T10:51:17.829929Z"
    }
   },
   "outputs": [
    {
     "data": {
      "text/plain": [
       "LGBMClassifier(colsample_bytree=0.7422504150750135, force_col_wise=True,\n",
       "               min_child_samples=266, n_estimators=168, num_leaves=43,\n",
       "               random_state=17, reg_alpha=0.1, reg_lambda=0,\n",
       "               subsample=0.5022832470118295, verbose=-1)"
      ]
     },
     "execution_count": 42,
     "metadata": {},
     "output_type": "execute_result"
    }
   ],
   "source": [
    "model.fit(X_rus, y_rus)"
   ]
  },
  {
   "cell_type": "code",
   "execution_count": 43,
   "id": "0b4572e3",
   "metadata": {
    "ExecuteTime": {
     "end_time": "2021-09-10T10:51:29.855012Z",
     "start_time": "2021-09-10T10:51:27.088679Z"
    }
   },
   "outputs": [
    {
     "name": "stdout",
     "output_type": "stream",
     "text": [
      "The random undersampling model scores 0.77735 ROC AUC on the test set.\n",
      "\n",
      "              precision    recall  f1-score   support\n",
      "\n",
      "           0       0.96      0.71      0.82     70622\n",
      "           1       0.18      0.70      0.28      6256\n",
      "\n",
      "    accuracy                           0.71     76878\n",
      "   macro avg       0.57      0.70      0.55     76878\n",
      "weighted avg       0.90      0.71      0.77     76878\n",
      "\n"
     ]
    }
   ],
   "source": [
    "preds_proba = model.predict_proba(test_features)[:, 1]\n",
    "preds = model.predict(test_features)\n",
    "\n",
    "rus_auc = roc_auc_score(test_labels, preds_proba)\n",
    "\n",
    "print('The random undersampling model scores {:.5f} ROC AUC on the test set.'.format(\n",
    "    rus_auc))\n",
    "print()\n",
    "print(classification_report(test_labels, preds))"
   ]
  },
  {
   "cell_type": "code",
   "execution_count": 44,
   "id": "fd5943b8",
   "metadata": {
    "ExecuteTime": {
     "end_time": "2021-09-10T10:51:29.904463Z",
     "start_time": "2021-09-10T10:51:29.857966Z"
    }
   },
   "outputs": [],
   "source": [
    "import pickle\n",
    "\n",
    "with open('Final_Model.pkl', 'wb') as file:  \n",
    "    pickle.dump(model, file)"
   ]
  },
  {
   "cell_type": "code",
   "execution_count": null,
   "id": "7952881d",
   "metadata": {},
   "outputs": [],
   "source": []
  }
 ],
 "metadata": {
  "hide_input": false,
  "kernelspec": {
   "display_name": "Python 3 (ipykernel)",
   "language": "python",
   "name": "python3"
  },
  "language_info": {
   "codemirror_mode": {
    "name": "ipython",
    "version": 3
   },
   "file_extension": ".py",
   "mimetype": "text/x-python",
   "name": "python",
   "nbconvert_exporter": "python",
   "pygments_lexer": "ipython3",
   "version": "3.8.11"
  },
  "toc": {
   "base_numbering": 1,
   "nav_menu": {},
   "number_sections": true,
   "sideBar": true,
   "skip_h1_title": false,
   "title_cell": "Table of Contents",
   "title_sidebar": "Contents",
   "toc_cell": false,
   "toc_position": {
    "height": "calc(100% - 180px)",
    "left": "10px",
    "top": "150px",
    "width": "256px"
   },
   "toc_section_display": true,
   "toc_window_display": true
  },
  "varInspector": {
   "cols": {
    "lenName": 16,
    "lenType": 16,
    "lenVar": 40
   },
   "kernels_config": {
    "python": {
     "delete_cmd_postfix": "",
     "delete_cmd_prefix": "del ",
     "library": "var_list.py",
     "varRefreshCmd": "print(var_dic_list())"
    },
    "r": {
     "delete_cmd_postfix": ") ",
     "delete_cmd_prefix": "rm(",
     "library": "var_list.r",
     "varRefreshCmd": "cat(var_dic_list()) "
    }
   },
   "position": {
    "height": "222px",
    "left": "901px",
    "right": "20px",
    "top": "120px",
    "width": "359px"
   },
   "types_to_exclude": [
    "module",
    "function",
    "builtin_function_or_method",
    "instance",
    "_Feature"
   ],
   "window_display": false
  }
 },
 "nbformat": 4,
 "nbformat_minor": 5
}
